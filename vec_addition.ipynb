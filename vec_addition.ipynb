{
 "cells": [
  {
   "cell_type": "markdown",
   "metadata": {},
   "source": [
    "# Tutorial 1: Vector Addition"
   ]
  },
  {
   "cell_type": "code",
   "execution_count": 4,
   "metadata": {},
   "outputs": [],
   "source": [
    "import torch\n",
    "import triton\n",
    "import triton.language as tl"
   ]
  },
  {
   "cell_type": "code",
   "execution_count": 5,
   "metadata": {},
   "outputs": [],
   "source": [
    "@triton.jit\n",
    "def add_kernel(\n",
    "    x_ptr,  # 1st vector pointer\n",
    "    y_ptr,  # 2nd vector pointer\n",
    "    output_ptr,  # output vector pointer\n",
    "    n_elements,  # vector size\n",
    "    BLOCK_SIZE: tl.constexpr,  # number of elements each program should process\n",
    "):\n",
    "    pid = tl.program_id(axis=0)\n",
    "\n",
    "    block_start = pid * BLOCK_SIZE  #\n",
    "    offsets = block_start + tl.arange(0, BLOCK_SIZE)  # list of pointers\n",
    "    mask = offsets < n_elements  # make sure n_elements is a multiple of BLOCK_SIZE\n",
    "    \n",
    "    x = tl.load(x_ptr + offsets, mask=mask)\n",
    "    y = tl.load(y_ptr + offsets, mask=mask)\n",
    "    output = x + y\n",
    "\n",
    "    tl.store(output_ptr + offsets, output, mask=mask)\n",
    "\n"
   ]
  },
  {
   "cell_type": "code",
   "execution_count": 14,
   "metadata": {},
   "outputs": [],
   "source": [
    "def add(x: torch.Tensor, y: torch.Tensor):\n",
    "    output = torch.empty_like(x)\n",
    "    assert x.is_cuda and y.is_cuda and output.is_cuda\n",
    "    \n",
    "    n_elements = output.numel()\n",
    "    \n",
    "    grid = lambda meta: (triton.cdiv(n_elements, meta['BLOCK_SIZE']),)\n",
    "    add_kernel[grid](x, y, output, n_elements, BLOCK_SIZE=1024)\n",
    "    \n",
    "    return output"
   ]
  },
  {
   "cell_type": "code",
   "execution_count": 17,
   "metadata": {},
   "outputs": [
    {
     "name": "stdout",
     "output_type": "stream",
     "text": [
      "tensor(-0.2313, device='cuda:0')\n",
      "tensor(0.6526, device='cuda:0')\n",
      "tensor(0.4213, device='cuda:0')\n"
     ]
    },
    {
     "data": {
      "text/plain": [
       "tensor([ 0.4213, -0.2940,  0.8129,  ...,  0.7071,  0.7383,  1.1865],\n",
       "       device='cuda:0')"
      ]
     },
     "execution_count": 17,
     "metadata": {},
     "output_type": "execute_result"
    }
   ],
   "source": [
    "n_elements = 1024\n",
    "x = torch.randn(n_elements, device='cuda')\n",
    "y = torch.randn(n_elements, device='cuda')\n",
    "print(x[0])\n",
    "print(y[0])\n",
    "print(x[0] + y[0])\n",
    "add(x, y)"
   ]
  },
  {
   "cell_type": "code",
   "execution_count": 21,
   "metadata": {},
   "outputs": [
    {
     "name": "stdout",
     "output_type": "stream",
     "text": [
      "Size: 1,024 -> 0.128 ms\n",
      "Size: 4,096 -> 0.088 ms\n",
      "Size: 16,384 -> 0.074 ms\n",
      "Size: 65,536 -> 0.069 ms\n",
      "Size: 262,144 -> 0.069 ms\n",
      "Size: 1,048,576 -> 0.071 ms\n"
     ]
    }
   ],
   "source": [
    "# Benchmark across input sizes\n",
    "batch_sizes = [2**10, 2**12, 2**14, 2**16, 2**18, 2**20]  # 1K to 1M elements\n",
    "results = []\n",
    "\n",
    "for size in batch_sizes:\n",
    "    x = torch.randn(size, device='cuda')\n",
    "    y = torch.randn(size, device='cuda')\n",
    "\n",
    "    # record timing\n",
    "    start_event = torch.cuda.Event(enable_timing=True)\n",
    "    end_event = torch.cuda.Event(enable_timing=True)\n",
    "\n",
    "    start_event.record()\n",
    "    add(x, y)\n",
    "    end_event.record()\n",
    "    # pause python and wait for kernel to finish\n",
    "    torch.cuda.synchronize()\n",
    "\n",
    "    elapsed_ms = start_event.elapsed_time(end_event)\n",
    "    results.append((size, elapsed_ms))\n",
    "    print(f\"Size: {size:,} -> {elapsed_ms:.3f} ms\")\n",
    "\n",
    "# save to CSV\n",
    "import csv\n",
    "with open(\"triton_batch_benchmark.csv\", \"w\") as f:\n",
    "    writer = csv.writer(f)\n",
    "    writer.writerow([\"Batch Size\", \"Time (ms)\"])\n",
    "    writer.writerows(results)"
   ]
  },
  {
   "cell_type": "code",
   "execution_count": null,
   "metadata": {},
   "outputs": [],
   "source": []
  }
 ],
 "metadata": {
  "kernelspec": {
   "display_name": "Python 3",
   "language": "python",
   "name": "python3"
  },
  "language_info": {
   "codemirror_mode": {
    "name": "ipython",
    "version": 3
   },
   "file_extension": ".py",
   "mimetype": "text/x-python",
   "name": "python",
   "nbconvert_exporter": "python",
   "pygments_lexer": "ipython3",
   "version": "3.10.14"
  }
 },
 "nbformat": 4,
 "nbformat_minor": 2
}
